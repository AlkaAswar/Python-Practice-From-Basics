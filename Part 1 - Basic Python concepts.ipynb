{
 "cells": [
  {
   "cell_type": "markdown",
   "id": "66b0ea34",
   "metadata": {},
   "source": [
    "## Operators"
   ]
  },
  {
   "cell_type": "code",
   "execution_count": 1,
   "id": "87c6084c",
   "metadata": {},
   "outputs": [
    {
     "data": {
      "text/plain": [
       "4"
      ]
     },
     "execution_count": 1,
     "metadata": {},
     "output_type": "execute_result"
    }
   ],
   "source": [
    "2+2"
   ]
  },
  {
   "cell_type": "code",
   "execution_count": 2,
   "id": "c23a059f",
   "metadata": {},
   "outputs": [
    {
     "data": {
      "text/plain": [
       "9"
      ]
     },
     "execution_count": 2,
     "metadata": {},
     "output_type": "execute_result"
    }
   ],
   "source": [
    "3**2"
   ]
  },
  {
   "cell_type": "code",
   "execution_count": 10,
   "id": "0159d811",
   "metadata": {},
   "outputs": [
    {
     "data": {
      "text/plain": [
       "10.222222222222221"
      ]
     },
     "execution_count": 10,
     "metadata": {},
     "output_type": "execute_result"
    }
   ],
   "source": [
    "92/9"
   ]
  },
  {
   "cell_type": "code",
   "execution_count": 9,
   "id": "c730aa62",
   "metadata": {},
   "outputs": [
    {
     "data": {
      "text/plain": [
       "10"
      ]
     },
     "execution_count": 9,
     "metadata": {},
     "output_type": "execute_result"
    }
   ],
   "source": [
    "92//9"
   ]
  },
  {
   "cell_type": "code",
   "execution_count": 11,
   "id": "36f38710",
   "metadata": {},
   "outputs": [
    {
     "data": {
      "text/plain": [
       "508"
      ]
     },
     "execution_count": 11,
     "metadata": {},
     "output_type": "execute_result"
    }
   ],
   "source": [
    "23+12-33+23*22"
   ]
  },
  {
   "cell_type": "markdown",
   "id": "660a0270",
   "metadata": {},
   "source": [
    "## Data Types"
   ]
  },
  {
   "cell_type": "code",
   "execution_count": 12,
   "id": "5f55f2bc",
   "metadata": {},
   "outputs": [
    {
     "data": {
      "text/plain": [
       "int"
      ]
     },
     "execution_count": 12,
     "metadata": {},
     "output_type": "execute_result"
    }
   ],
   "source": [
    "type(3)"
   ]
  },
  {
   "cell_type": "code",
   "execution_count": 13,
   "id": "802fb7e9",
   "metadata": {},
   "outputs": [
    {
     "data": {
      "text/plain": [
       "float"
      ]
     },
     "execution_count": 13,
     "metadata": {},
     "output_type": "execute_result"
    }
   ],
   "source": [
    "type(2.3)"
   ]
  },
  {
   "cell_type": "code",
   "execution_count": 15,
   "id": "a9681175",
   "metadata": {},
   "outputs": [
    {
     "data": {
      "text/plain": [
       "str"
      ]
     },
     "execution_count": 15,
     "metadata": {},
     "output_type": "execute_result"
    }
   ],
   "source": [
    "type('Hi')"
   ]
  },
  {
   "cell_type": "code",
   "execution_count": 21,
   "id": "10926f63",
   "metadata": {},
   "outputs": [
    {
     "data": {
      "text/plain": [
       "str"
      ]
     },
     "execution_count": 21,
     "metadata": {},
     "output_type": "execute_result"
    }
   ],
   "source": [
    "type(\"Hello89\")"
   ]
  },
  {
   "cell_type": "code",
   "execution_count": 17,
   "id": "39664838",
   "metadata": {},
   "outputs": [
    {
     "data": {
      "text/plain": [
       "str"
      ]
     },
     "execution_count": 17,
     "metadata": {},
     "output_type": "execute_result"
    }
   ],
   "source": [
    "type('89')"
   ]
  },
  {
   "cell_type": "code",
   "execution_count": 29,
   "id": "298460e3",
   "metadata": {},
   "outputs": [
    {
     "data": {
      "text/plain": [
       "bool"
      ]
     },
     "execution_count": 29,
     "metadata": {},
     "output_type": "execute_result"
    }
   ],
   "source": [
    "type(True)"
   ]
  },
  {
   "cell_type": "code",
   "execution_count": 20,
   "id": "c8988a44",
   "metadata": {},
   "outputs": [
    {
     "data": {
      "text/plain": [
       "'Hello Guys'"
      ]
     },
     "execution_count": 20,
     "metadata": {},
     "output_type": "execute_result"
    }
   ],
   "source": [
    "\"Hello\" + \" Guys\"   #It will counted space"
   ]
  },
  {
   "cell_type": "code",
   "execution_count": 19,
   "id": "95149418",
   "metadata": {},
   "outputs": [
    {
     "data": {
      "text/plain": [
       "'Hisiya'"
      ]
     },
     "execution_count": 19,
     "metadata": {},
     "output_type": "execute_result"
    }
   ],
   "source": [
    "'Hi' + 'siya'"
   ]
  },
  {
   "cell_type": "code",
   "execution_count": 22,
   "id": "9e3f82d0",
   "metadata": {},
   "outputs": [
    {
     "ename": "TypeError",
     "evalue": "unsupported operand type(s) for +: 'int' and 'str'",
     "output_type": "error",
     "traceback": [
      "\u001b[1;31m---------------------------------------------------------------------------\u001b[0m",
      "\u001b[1;31mTypeError\u001b[0m                                 Traceback (most recent call last)",
      "\u001b[1;32m~\\AppData\\Local\\Temp/ipykernel_9124/1906370163.py\u001b[0m in \u001b[0;36m<cell line: 1>\u001b[1;34m()\u001b[0m\n\u001b[1;32m----> 1\u001b[1;33m \u001b[1;36m3\u001b[0m\u001b[1;33m+\u001b[0m\u001b[1;34m'Students'\u001b[0m\u001b[1;33m\u001b[0m\u001b[1;33m\u001b[0m\u001b[0m\n\u001b[0m",
      "\u001b[1;31mTypeError\u001b[0m: unsupported operand type(s) for +: 'int' and 'str'"
     ]
    }
   ],
   "source": [
    "3+'Students'    #string value will calculate only with string value"
   ]
  },
  {
   "cell_type": "code",
   "execution_count": 24,
   "id": "a46edc81",
   "metadata": {},
   "outputs": [
    {
     "data": {
      "text/plain": [
       "'3 Students'"
      ]
     },
     "execution_count": 24,
     "metadata": {},
     "output_type": "execute_result"
    }
   ],
   "source": [
    "'3 ' + 'Students'"
   ]
  },
  {
   "cell_type": "code",
   "execution_count": 26,
   "id": "8be6eb2a",
   "metadata": {},
   "outputs": [
    {
     "data": {
      "text/plain": [
       "' Students Students Students'"
      ]
     },
     "execution_count": 26,
     "metadata": {},
     "output_type": "execute_result"
    }
   ],
   "source": [
    "3*\" Students\""
   ]
  },
  {
   "cell_type": "code",
   "execution_count": 28,
   "id": "7d70f422",
   "metadata": {},
   "outputs": [
    {
     "ename": "TypeError",
     "evalue": "unsupported operand type(s) for +: 'float' and 'str'",
     "output_type": "error",
     "traceback": [
      "\u001b[1;31m---------------------------------------------------------------------------\u001b[0m",
      "\u001b[1;31mTypeError\u001b[0m                                 Traceback (most recent call last)",
      "\u001b[1;32m~\\AppData\\Local\\Temp/ipykernel_9124/580042623.py\u001b[0m in \u001b[0;36m<cell line: 1>\u001b[1;34m()\u001b[0m\n\u001b[1;32m----> 1\u001b[1;33m \u001b[1;36m10.9\u001b[0m \u001b[1;33m+\u001b[0m \u001b[1;34m\"Students\"\u001b[0m\u001b[1;33m\u001b[0m\u001b[1;33m\u001b[0m\u001b[0m\n\u001b[0m",
      "\u001b[1;31mTypeError\u001b[0m: unsupported operand type(s) for +: 'float' and 'str'"
     ]
    }
   ],
   "source": [
    "10.9 + \"Students\"      #string can not calculate with float value"
   ]
  },
  {
   "cell_type": "code",
   "execution_count": 30,
   "id": "2a50900f",
   "metadata": {},
   "outputs": [
    {
     "ename": "TypeError",
     "evalue": "can only concatenate str (not \"bool\") to str",
     "output_type": "error",
     "traceback": [
      "\u001b[1;31m---------------------------------------------------------------------------\u001b[0m",
      "\u001b[1;31mTypeError\u001b[0m                                 Traceback (most recent call last)",
      "\u001b[1;32m~\\AppData\\Local\\Temp/ipykernel_9124/3191534665.py\u001b[0m in \u001b[0;36m<cell line: 1>\u001b[1;34m()\u001b[0m\n\u001b[1;32m----> 1\u001b[1;33m \u001b[1;34m\"Hi your name is garima\"\u001b[0m \u001b[1;33m+\u001b[0m \u001b[1;32mTrue\u001b[0m\u001b[1;33m\u001b[0m\u001b[1;33m\u001b[0m\u001b[0m\n\u001b[0m",
      "\u001b[1;31mTypeError\u001b[0m: can only concatenate str (not \"bool\") to str"
     ]
    }
   ],
   "source": [
    "\"Hi your name is garima\" + True "
   ]
  },
  {
   "cell_type": "markdown",
   "id": "506f8cec",
   "metadata": {},
   "source": [
    "## Variable "
   ]
  },
  {
   "cell_type": "code",
   "execution_count": 31,
   "id": "6065e083",
   "metadata": {},
   "outputs": [],
   "source": [
    "val=39"
   ]
  },
  {
   "cell_type": "code",
   "execution_count": 32,
   "id": "59cf248d",
   "metadata": {},
   "outputs": [
    {
     "data": {
      "text/plain": [
       "39"
      ]
     },
     "execution_count": 32,
     "metadata": {},
     "output_type": "execute_result"
    }
   ],
   "source": [
    "val"
   ]
  },
  {
   "cell_type": "code",
   "execution_count": 33,
   "id": "2aebe481",
   "metadata": {},
   "outputs": [],
   "source": [
    "val=\"hello\""
   ]
  },
  {
   "cell_type": "code",
   "execution_count": 34,
   "id": "77a15903",
   "metadata": {},
   "outputs": [
    {
     "data": {
      "text/plain": [
       "'hello'"
      ]
     },
     "execution_count": 34,
     "metadata": {},
     "output_type": "execute_result"
    }
   ],
   "source": [
    "val"
   ]
  },
  {
   "cell_type": "code",
   "execution_count": 35,
   "id": "586965dd",
   "metadata": {},
   "outputs": [
    {
     "ename": "SyntaxError",
     "evalue": "invalid syntax (Temp/ipykernel_9124/2613353766.py, line 1)",
     "output_type": "error",
     "traceback": [
      "\u001b[1;36m  File \u001b[1;32m\"C:\\Users\\Admin\\AppData\\Local\\Temp/ipykernel_9124/2613353766.py\"\u001b[1;36m, line \u001b[1;32m1\u001b[0m\n\u001b[1;33m    val 1=30\u001b[0m\n\u001b[1;37m        ^\u001b[0m\n\u001b[1;31mSyntaxError\u001b[0m\u001b[1;31m:\u001b[0m invalid syntax\n"
     ]
    }
   ],
   "source": [
    "val 1=30"
   ]
  },
  {
   "cell_type": "code",
   "execution_count": 37,
   "id": "e26b42af",
   "metadata": {},
   "outputs": [
    {
     "data": {
      "text/plain": [
       "80"
      ]
     },
     "execution_count": 37,
     "metadata": {},
     "output_type": "execute_result"
    }
   ],
   "source": [
    "val1=80\n",
    "val1"
   ]
  },
  {
   "cell_type": "code",
   "execution_count": 38,
   "id": "6f7994a0",
   "metadata": {},
   "outputs": [
    {
     "ename": "SyntaxError",
     "evalue": "invalid syntax (Temp/ipykernel_9124/366835670.py, line 1)",
     "output_type": "error",
     "traceback": [
      "\u001b[1;36m  File \u001b[1;32m\"C:\\Users\\Admin\\AppData\\Local\\Temp/ipykernel_9124/366835670.py\"\u001b[1;36m, line \u001b[1;32m1\u001b[0m\n\u001b[1;33m    1val=80\u001b[0m\n\u001b[1;37m     ^\u001b[0m\n\u001b[1;31mSyntaxError\u001b[0m\u001b[1;31m:\u001b[0m invalid syntax\n"
     ]
    }
   ],
   "source": [
    "1val=80"
   ]
  },
  {
   "cell_type": "code",
   "execution_count": 39,
   "id": "9e2bdd84",
   "metadata": {},
   "outputs": [
    {
     "ename": "SyntaxError",
     "evalue": "cannot assign to operator (Temp/ipykernel_9124/2487487600.py, line 1)",
     "output_type": "error",
     "traceback": [
      "\u001b[1;36m  File \u001b[1;32m\"C:\\Users\\Admin\\AppData\\Local\\Temp/ipykernel_9124/2487487600.py\"\u001b[1;36m, line \u001b[1;32m1\u001b[0m\n\u001b[1;33m    val-1=88\u001b[0m\n\u001b[1;37m    ^\u001b[0m\n\u001b[1;31mSyntaxError\u001b[0m\u001b[1;31m:\u001b[0m cannot assign to operator\n"
     ]
    }
   ],
   "source": [
    "val-1=88"
   ]
  },
  {
   "cell_type": "code",
   "execution_count": 40,
   "id": "dc885e38",
   "metadata": {},
   "outputs": [],
   "source": [
    "#Variable name can not start with number , should not any special value and should not spaces "
   ]
  },
  {
   "cell_type": "code",
   "execution_count": 41,
   "id": "f4536cb5",
   "metadata": {},
   "outputs": [
    {
     "data": {
      "text/plain": [
       "78"
      ]
     },
     "execution_count": 41,
     "metadata": {},
     "output_type": "execute_result"
    }
   ],
   "source": [
    "coin=78\n",
    "Coin=90\n",
    "coin         #case sensitive"
   ]
  },
  {
   "cell_type": "code",
   "execution_count": 42,
   "id": "0bf99d77",
   "metadata": {},
   "outputs": [
    {
     "data": {
      "text/plain": [
       "90"
      ]
     },
     "execution_count": 42,
     "metadata": {},
     "output_type": "execute_result"
    }
   ],
   "source": [
    "Coin"
   ]
  },
  {
   "cell_type": "code",
   "execution_count": 7,
   "id": "d37ac7e8",
   "metadata": {},
   "outputs": [
    {
     "name": "stdout",
     "output_type": "stream",
     "text": [
      "Hi There\n",
      "Enter Your Name?\n",
      "Snehal\n",
      "Enter Your Last Name?\n",
      "sharma\n",
      "Length of your firstName and lastName\n",
      "Amazing name \n"
     ]
    }
   ],
   "source": [
    "print(\"Hi There\")\n",
    "print('Enter Your Name?')\n",
    "firstName=input()\n",
    "firstNameLength=len(firstName)\n",
    "\n",
    "print('Enter Your Last Name?')\n",
    "lastName=input()\n",
    "lastNameLength=len(lastName)\n",
    "\n",
    "if(firstNameLength>lastNameLength):\n",
    "    print(\"Your firstName is Greter than lastName\")\n",
    "    \n",
    "elif(firstNameLength<lastNameLength):\n",
    "    print(\"Your firstName is Less than lastName\")\n",
    "    \n",
    "else:\n",
    "    print(\"Length of your firstName and lastName\") \n",
    "    print(\"Amazing name \")"
   ]
  },
  {
   "cell_type": "markdown",
   "id": "9686ad84",
   "metadata": {},
   "source": [
    "## Flow control Statement"
   ]
  },
  {
   "cell_type": "code",
   "execution_count": 1,
   "id": "2b1671e4",
   "metadata": {},
   "outputs": [],
   "source": [
    "x = 3           # assigned 3 to x "
   ]
  },
  {
   "cell_type": "code",
   "execution_count": 2,
   "id": "b5692c7f",
   "metadata": {},
   "outputs": [
    {
     "data": {
      "text/plain": [
       "True"
      ]
     },
     "execution_count": 2,
     "metadata": {},
     "output_type": "execute_result"
    }
   ],
   "source": [
    "x == 3        # will check the value of x is 3 or not"
   ]
  },
  {
   "cell_type": "code",
   "execution_count": 3,
   "id": "fc96abf1",
   "metadata": {},
   "outputs": [
    {
     "ename": "SyntaxError",
     "evalue": "cannot assign to literal (Temp/ipykernel_2372/2312755463.py, line 1)",
     "output_type": "error",
     "traceback": [
      "\u001b[1;36m  File \u001b[1;32m\"C:\\Users\\Admin\\AppData\\Local\\Temp/ipykernel_2372/2312755463.py\"\u001b[1;36m, line \u001b[1;32m1\u001b[0m\n\u001b[1;33m    'hello'='hi'\u001b[0m\n\u001b[1;37m    ^\u001b[0m\n\u001b[1;31mSyntaxError\u001b[0m\u001b[1;31m:\u001b[0m cannot assign to literal\n"
     ]
    }
   ],
   "source": [
    "'hello'='hi'"
   ]
  },
  {
   "cell_type": "code",
   "execution_count": 4,
   "id": "4e022b28",
   "metadata": {},
   "outputs": [
    {
     "data": {
      "text/plain": [
       "False"
      ]
     },
     "execution_count": 4,
     "metadata": {},
     "output_type": "execute_result"
    }
   ],
   "source": [
    "'hello'=='hi'"
   ]
  },
  {
   "cell_type": "code",
   "execution_count": 7,
   "id": "aae2bd4b",
   "metadata": {},
   "outputs": [
    {
     "data": {
      "text/plain": [
       "True"
      ]
     },
     "execution_count": 7,
     "metadata": {},
     "output_type": "execute_result"
    }
   ],
   "source": [
    "'hello'=='hello'"
   ]
  },
  {
   "cell_type": "code",
   "execution_count": 8,
   "id": "49335780",
   "metadata": {},
   "outputs": [
    {
     "data": {
      "text/plain": [
       "False"
      ]
     },
     "execution_count": 8,
     "metadata": {},
     "output_type": "execute_result"
    }
   ],
   "source": [
    "3.2==9.8"
   ]
  },
  {
   "cell_type": "code",
   "execution_count": 9,
   "id": "68e3ac77",
   "metadata": {},
   "outputs": [
    {
     "data": {
      "text/plain": [
       "True"
      ]
     },
     "execution_count": 9,
     "metadata": {},
     "output_type": "execute_result"
    }
   ],
   "source": [
    "3.9<9.8"
   ]
  },
  {
   "cell_type": "code",
   "execution_count": 10,
   "id": "efd56031",
   "metadata": {},
   "outputs": [
    {
     "data": {
      "text/plain": [
       "False"
      ]
     },
     "execution_count": 10,
     "metadata": {},
     "output_type": "execute_result"
    }
   ],
   "source": [
    "(7>8) and (3<9)"
   ]
  },
  {
   "cell_type": "code",
   "execution_count": 11,
   "id": "68a275da",
   "metadata": {},
   "outputs": [
    {
     "data": {
      "text/plain": [
       "True"
      ]
     },
     "execution_count": 11,
     "metadata": {},
     "output_type": "execute_result"
    }
   ],
   "source": [
    "(7>8)or(3<9)"
   ]
  },
  {
   "cell_type": "code",
   "execution_count": 12,
   "id": "3c380210",
   "metadata": {},
   "outputs": [
    {
     "data": {
      "text/plain": [
       "True"
      ]
     },
     "execution_count": 12,
     "metadata": {},
     "output_type": "execute_result"
    }
   ],
   "source": [
    "not (7>9) or (2<8)"
   ]
  },
  {
   "cell_type": "code",
   "execution_count": 6,
   "id": "7f416806",
   "metadata": {},
   "outputs": [
    {
     "name": "stdout",
     "output_type": "stream",
     "text": [
      "Hello Robin!\n",
      "Good to see you!\n",
      "You are kid\n"
     ]
    }
   ],
   "source": [
    "name='Robin Hood'\n",
    "age=10\n",
    "if name == 'Robin Hood':\n",
    "    print('Hello Robin!')\n",
    "    print('Good to see you!')\n",
    "    if age <18:\n",
    "        print(\"You are kid\")\n",
    "elif age < 30:\n",
    "    print('you are pretty young !')\n",
    "else:\n",
    "    print('Hello stranger')"
   ]
  },
  {
   "cell_type": "markdown",
   "id": "c9c9bdc5",
   "metadata": {},
   "source": [
    "## Loops "
   ]
  },
  {
   "cell_type": "markdown",
   "id": "8d7a61f3",
   "metadata": {},
   "source": [
    "### While Loop"
   ]
  },
  {
   "cell_type": "code",
   "execution_count": 1,
   "id": "b41e46ce",
   "metadata": {},
   "outputs": [
    {
     "data": {
      "text/plain": [
       "' \\nwhile condistion/expression\\n    block of code line1\\n    block of code line2\\n'"
      ]
     },
     "execution_count": 1,
     "metadata": {},
     "output_type": "execute_result"
    }
   ],
   "source": [
    "''' \n",
    "while condistion/expression\n",
    "    block of code line1\n",
    "    block of code line2\n",
    "'''"
   ]
  },
  {
   "cell_type": "code",
   "execution_count": 4,
   "id": "66eef76b",
   "metadata": {},
   "outputs": [
    {
     "name": "stdout",
     "output_type": "stream",
     "text": [
      "you have 0 coins\n",
      "you have 1 coins\n",
      "you have 2 coins\n",
      "you have 3 coins\n",
      "you have 4 coins\n",
      "you have 5 coins\n",
      "you have 6 coins\n",
      "you have 7 coins\n",
      "you have 8 coins\n",
      "you have 9 coins\n",
      "Good Bye!!!\n"
     ]
    }
   ],
   "source": [
    "coins=0\n",
    "\n",
    "while coins < 10:\n",
    "    print(\"you have \"+str(coins) + ' coins')\n",
    "    coins=coins+1\n",
    "print('Good Bye!!!')"
   ]
  },
  {
   "cell_type": "code",
   "execution_count": 5,
   "id": "eedafeb0",
   "metadata": {},
   "outputs": [
    {
     "name": "stdout",
     "output_type": "stream",
     "text": [
      "what is your name?\n",
      "Shital\n",
      "what is your name?\n",
      "gita\n",
      "what is your name?\n",
      "techTFQ\n",
      "Hello techTEQ!!!!\n"
     ]
    }
   ],
   "source": [
    "name = ''\n",
    "\n",
    "while name !='techTFQ':\n",
    "    print('what is your name?')\n",
    "    name = input()\n",
    "print('Hello techTEQ!!!!')"
   ]
  },
  {
   "cell_type": "code",
   "execution_count": 9,
   "id": "89bd8d78",
   "metadata": {},
   "outputs": [
    {
     "name": "stdout",
     "output_type": "stream",
     "text": [
      "what is your name?\n",
      "neha\n",
      "what is your name?\n",
      "jaya\n",
      "what is your name?\n",
      "techTEQ\n",
      "Hello techTEQ!!!!\n"
     ]
    }
   ],
   "source": [
    "while True:\n",
    "    print('what is your name?')\n",
    "    name = input()\n",
    "    if name == 'techTEQ':\n",
    "        break\n",
    "print('Hello techTEQ!!!!')"
   ]
  },
  {
   "cell_type": "code",
   "execution_count": 11,
   "id": "dd539721",
   "metadata": {},
   "outputs": [
    {
     "name": "stdout",
     "output_type": "stream",
     "text": [
      "what is your name?\n",
      "shrusti\n",
      "what is your name?\n",
      "techTEQ\n",
      "Enter your password:\n",
      "hjsid\n",
      "what is your name?\n",
      "techTEQ\n",
      "Enter your password:\n",
      "Admin\n",
      "Welcome techTEQ!!!!\n"
     ]
    }
   ],
   "source": [
    "while True:\n",
    "    print('what is your name?')\n",
    "    name = input()\n",
    "    if name != 'techTEQ':\n",
    "        continue\n",
    "    print('Enter your password:')\n",
    "    pwd = input()\n",
    "    if pwd == 'Admin':\n",
    "        break\n",
    "print('Welcome techTEQ!!!!')"
   ]
  },
  {
   "cell_type": "markdown",
   "id": "152b1c82",
   "metadata": {},
   "source": [
    "## For Loop "
   ]
  },
  {
   "cell_type": "code",
   "execution_count": 15,
   "id": "3296b482",
   "metadata": {},
   "outputs": [
    {
     "name": "stdout",
     "output_type": "stream",
     "text": [
      "Current value is -->  1\n",
      "Current value is -->  3\n",
      "Current value is -->  5\n",
      "Current value is -->  7\n",
      "Current value is -->  9\n"
     ]
    }
   ],
   "source": [
    "for i in range(1,10,2):\n",
    "    print(\"Current value is --> \",i)"
   ]
  },
  {
   "cell_type": "code",
   "execution_count": 17,
   "id": "e54293d3",
   "metadata": {},
   "outputs": [
    {
     "name": "stdout",
     "output_type": "stream",
     "text": [
      "Curent value is --> h\n",
      "Curent value is --> e\n",
      "Curent value is --> l\n",
      "Curent value is --> l\n",
      "Curent value is --> o\n"
     ]
    }
   ],
   "source": [
    "data = 'hello'\n",
    "\n",
    "for value in data:\n",
    "    print('Curent value is -->',value)"
   ]
  },
  {
   "cell_type": "code",
   "execution_count": 18,
   "id": "47b88904",
   "metadata": {},
   "outputs": [
    {
     "name": "stdout",
     "output_type": "stream",
     "text": [
      "Curent value is --> C\n",
      "Curent value is --> C++\n",
      "Curent value is --> Java\n",
      "Curent value is --> Python\n",
      "Curent value is --> SQL\n"
     ]
    }
   ],
   "source": [
    "#data = 'hello'\n",
    "data = ['C','C++','Java','Python','SQL']\n",
    "for value in data:\n",
    "    print('Curent value is -->',value)"
   ]
  },
  {
   "cell_type": "code",
   "execution_count": 19,
   "id": "15516d27",
   "metadata": {},
   "outputs": [
    {
     "name": "stdout",
     "output_type": "stream",
     "text": [
      "Curent value is --> C\n",
      "Curent value is --> C++\n",
      "Curent value is --> Java\n",
      "Curent value is --> Python\n",
      "We are learnig Python!\n"
     ]
    }
   ],
   "source": [
    "data = ['C','C++','Java','Python','SQL']\n",
    "for value in data:\n",
    "    print('Curent value is -->',value)\n",
    "    if value == 'Python':\n",
    "        print('We are learnig Python!')\n",
    "        break"
   ]
  },
  {
   "cell_type": "markdown",
   "id": "2fad2319",
   "metadata": {},
   "source": [
    "## Import Module "
   ]
  },
  {
   "cell_type": "code",
   "execution_count": 62,
   "id": "6d410b54",
   "metadata": {},
   "outputs": [
    {
     "name": "stdout",
     "output_type": "stream",
     "text": [
      "3\n"
     ]
    }
   ],
   "source": [
    "def countvowels(data):\n",
    "    cnt = 0\n",
    "    for i in data:\n",
    "        if i.upper() in ('A','E','I','O','U'):\n",
    "            cnt += 1\n",
    "    return cnt\n",
    "print(countvowels(\"EIha\"))"
   ]
  },
  {
   "cell_type": "code",
   "execution_count": 63,
   "id": "b8d8b658",
   "metadata": {},
   "outputs": [
    {
     "name": "stdout",
     "output_type": "stream",
     "text": [
      "Today's date is 2022-10-02\n",
      "Random Number 9\n",
      "Enter a name Neesha\n",
      "No of vowels are:  3\n"
     ]
    }
   ],
   "source": [
    "import datetime, random as rn\n",
    "import sys\n",
    "import webbrowser as wb\n",
    "print(\"Today's date is\",datetime.date.today())\n",
    "#sys.exit()\n",
    "print(\"Random Number\",rn.randint(1,10))\n",
    "\n",
    "#wb.open('www.google.com')\n",
    "name = input('Enter a name ')\n",
    "print('No of vowels are: ',countvowels(name))\n"
   ]
  },
  {
   "cell_type": "markdown",
   "id": "1497d566",
   "metadata": {},
   "source": [
    "## Functions "
   ]
  },
  {
   "cell_type": "code",
   "execution_count": 73,
   "id": "a683ea05",
   "metadata": {},
   "outputs": [
    {
     "name": "stdout",
     "output_type": "stream",
     "text": [
      "Function is invoked.\n",
      "Hello Alka ... we are learning Python. \n",
      "Function is invoked.\n"
     ]
    },
    {
     "data": {
      "text/plain": [
       "'Aswar'"
      ]
     },
     "execution_count": 73,
     "metadata": {},
     "output_type": "execute_result"
    }
   ],
   "source": [
    "def learnFunc(name):\n",
    "    print('Function is invoked.')\n",
    "    return name\n",
    "print('Hello',learnFunc('Alka'),\"... we are learning Python. \")\n",
    "\n",
    "learnFunc('Aswar')"
   ]
  },
  {
   "cell_type": "code",
   "execution_count": 77,
   "id": "5dfb85fb",
   "metadata": {},
   "outputs": [
    {
     "name": "stdout",
     "output_type": "stream",
     "text": [
      "What is your name? Alka\n",
      "Vowel characters in your name are  2\n"
     ]
    }
   ],
   "source": [
    "def countvowels(data):\n",
    "    cnt = 0\n",
    "    for i in data:\n",
    "        if i.upper() in ('A','E','I','O','U'):\n",
    "            cnt += 1\n",
    "    return cnt\n",
    "\n",
    "name = input(\"What is your name? \")\n",
    "result = countvowels(name)\n",
    "\n",
    "print(\"Vowel characters in your name are \", result)"
   ]
  },
  {
   "cell_type": "markdown",
   "id": "9bcdfaef",
   "metadata": {},
   "source": [
    "## Local and Global Scope\n",
    "\n"
   ]
  },
  {
   "cell_type": "code",
   "execution_count": 80,
   "id": "34532e49",
   "metadata": {},
   "outputs": [
    {
     "name": "stdout",
     "output_type": "stream",
     "text": [
      "global\n"
     ]
    }
   ],
   "source": [
    "a = 'global'\n",
    "def test():\n",
    "    a = 'local'\n",
    "test()\n",
    "print(a)    \n",
    "#Local variable can not be accessed by global variable"
   ]
  },
  {
   "cell_type": "code",
   "execution_count": 87,
   "id": "30729825",
   "metadata": {},
   "outputs": [
    {
     "name": "stdout",
     "output_type": "stream",
     "text": [
      "local test1\n",
      "local test2\n",
      "local test3\n",
      "global\n"
     ]
    }
   ],
   "source": [
    "def test1():\n",
    "    a = 'local test1'\n",
    "    print(a)\n",
    "\n",
    "def test2():\n",
    "         a = 'local test2'\n",
    "         print(a)\n",
    "\n",
    "def test3():\n",
    "    test1()\n",
    "    test2()\n",
    "    a = 'local test3'\n",
    "    print(a)\n",
    "    \n",
    "a = 'global'\n",
    "test3()\n",
    "print(a)"
   ]
  },
  {
   "cell_type": "code",
   "execution_count": 88,
   "id": "fca04492",
   "metadata": {},
   "outputs": [
    {
     "name": "stdout",
     "output_type": "stream",
     "text": [
      "global\n",
      "local\n"
     ]
    }
   ],
   "source": [
    "a = 'global'\n",
    "def test():\n",
    "    global a\n",
    "    a = 'local'\n",
    "\n",
    "print(a)\n",
    "test()\n",
    "print(a)"
   ]
  },
  {
   "cell_type": "code",
   "execution_count": null,
   "id": "a4bdb793",
   "metadata": {},
   "outputs": [],
   "source": []
  }
 ],
 "metadata": {
  "kernelspec": {
   "display_name": "Python 3 (ipykernel)",
   "language": "python",
   "name": "python3"
  },
  "language_info": {
   "codemirror_mode": {
    "name": "ipython",
    "version": 3
   },
   "file_extension": ".py",
   "mimetype": "text/x-python",
   "name": "python",
   "nbconvert_exporter": "python",
   "pygments_lexer": "ipython3",
   "version": "3.9.7"
  }
 },
 "nbformat": 4,
 "nbformat_minor": 5
}
